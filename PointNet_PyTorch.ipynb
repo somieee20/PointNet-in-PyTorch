{
  "metadata": {
    "kernelspec": {
      "language": "python",
      "display_name": "Python 3",
      "name": "python3"
    },
    "language_info": {
      "name": "python",
      "version": "3.7.12",
      "mimetype": "text/x-python",
      "codemirror_mode": {
        "name": "ipython",
        "version": 3
      },
      "pygments_lexer": "ipython3",
      "nbconvert_exporter": "python",
      "file_extension": ".py"
    },
    "colab": {
      "name": "ann-final-project.ipynb",
      "provenance": [],
      "collapsed_sections": []
    },
    "accelerator": "GPU"
  },
  "nbformat_minor": 0,
  "nbformat": 4,
  "cells": [
    {
      "cell_type": "code",
      "source": [
        "# ANN PROJECT\n",
        "\n",
        "# Muhammad Usama Saleem   19I-1901\n",
        "# Mohib Hameed            19I-1689\n",
        "# Taimur Muhammad Khan    19I-1659"
      ],
      "metadata": {
        "_uuid": "8f2839f25d086af736a60e9eeb907d3b93b6e0e5",
        "_cell_guid": "b1076dfc-b9ad-4769-8c92-a6c4dae69d19",
        "execution": {
          "iopub.status.busy": "2022-05-31T19:22:36.444383Z",
          "iopub.execute_input": "2022-05-31T19:22:36.444909Z",
          "iopub.status.idle": "2022-05-31T19:22:36.448332Z",
          "shell.execute_reply.started": "2022-05-31T19:22:36.444878Z",
          "shell.execute_reply": "2022-05-31T19:22:36.447651Z"
        },
        "trusted": true,
        "id": "2kmYMTFms66j"
      },
      "execution_count": 1,
      "outputs": []
    },
    {
      "cell_type": "code",
      "source": [
        "import numpy as np\n",
        "import pandas as pd\n",
        "from matplotlib import pyplot as plt\n",
        "import os\n",
        "import glob\n",
        "\n",
        "import tensorflow as tf\n",
        "from tensorflow import keras\n",
        "\n",
        "import torch\n",
        "import torch.nn as nn\n",
        "import torch.nn.functional as F\n",
        "import torch.optim as optim\n",
        "from torch.utils.data import Dataset, DataLoader\n",
        "from torchvision import transforms, utils\n",
        "\n",
        "import math\n",
        "import random\n",
        "import scipy.spatial.distance\n",
        "from pathlib import Path\n",
        "\n",
        "import warnings\n",
        "warnings.filterwarnings(\"ignore\")\n",
        "\n",
        "tf.random.set_seed(1000)"
      ],
      "metadata": {
        "execution": {
          "iopub.status.busy": "2022-05-31T19:22:36.641663Z",
          "iopub.execute_input": "2022-05-31T19:22:36.642452Z",
          "iopub.status.idle": "2022-05-31T19:22:36.651444Z",
          "shell.execute_reply.started": "2022-05-31T19:22:36.642401Z",
          "shell.execute_reply": "2022-05-31T19:22:36.650519Z"
        },
        "trusted": true,
        "id": "uaZnaW5ms66r"
      },
      "execution_count": null,
      "outputs": []
    },
    {
      "cell_type": "code",
      "source": [
        "DATA_DIR = tf.keras.utils.get_file(\n",
        "    \"modelnet.zip\",\n",
        "    \"http://3dvision.princeton.edu/projects/2014/3DShapeNets/ModelNet10.zip\",\n",
        "    extract=True,\n",
        ")\n",
        "directory = os.path.join(os.path.dirname(DATA_DIR), \"ModelNet10\")"
      ],
      "metadata": {
        "id": "aSLNYSn8tJcJ"
      },
      "execution_count": null,
      "outputs": []
    },
    {
      "cell_type": "code",
      "source": [
        "directory = Path(directory)\n",
        "classes_all = [dir for dir in sorted(os.listdir(directory)) if os.path.isdir(directory/dir)]\n",
        "classes_all"
      ],
      "metadata": {
        "colab": {
          "base_uri": "https://localhost:8080/"
        },
        "id": "MxKhNoAJtY5t",
        "outputId": "d1cb9213-29c8-444a-e77e-a14ce3c6f0bb"
      },
      "execution_count": null,
      "outputs": [
        {
          "output_type": "execute_result",
          "data": {
            "text/plain": [
              "['bathtub',\n",
              " 'bed',\n",
              " 'chair',\n",
              " 'desk',\n",
              " 'dresser',\n",
              " 'monitor',\n",
              " 'night_stand',\n",
              " 'sofa',\n",
              " 'table',\n",
              " 'toilet']"
            ]
          },
          "metadata": {},
          "execution_count": 23
        }
      ]
    },
    {
      "cell_type": "code",
      "source": [
        "def datapoints_loading(file):\n",
        "    \n",
        "    alpha = []\n",
        "    alpha_2 = []\n",
        "    alpha_3 = []\n",
        "    \n",
        "    beta = []\n",
        "    beta_2 = []\n",
        "    beta_3 = []\n",
        "    \n",
        "    if 'OFF' != file.readline().strip():\n",
        "        print('Not a valid OFF header')\n",
        "    \n",
        "    number_vertices, number_faces, __ = tuple([int(s) for s in file.readline().strip().split(' ')])\n",
        "    for i_vert in range(number_vertices):\n",
        "        for s in file.readline().strip().split(' '):\n",
        "            op_s = float(s)\n",
        "            alpha.append(op_s)    \n",
        "    for i in range(len(alpha)):\n",
        "        alpha_2.append(alpha[i])\n",
        "        i+=1\n",
        "        if i % 3 == 0:\n",
        "            alpha_2 = list(alpha_2)\n",
        "            alpha_3.append(alpha_2)\n",
        "            alpha_2 = []\n",
        "    \n",
        "    for i_face in range(number_faces):\n",
        "        for s in file.readline().strip().split(' ')[1:]:\n",
        "            op_f = int(s)\n",
        "            beta.append(op_f)\n",
        "    for i in range(len(beta)):\n",
        "        beta_2.append(beta[i])\n",
        "        i+=1\n",
        "        if i % 3 == 0:\n",
        "            beta_2 = list(beta_2)\n",
        "            beta_3.append(beta_2)\n",
        "            beta_2 = []\n",
        "            \n",
        "    return alpha_3, beta_3\n"
      ],
      "metadata": {
        "execution": {
          "iopub.status.busy": "2022-05-31T19:22:37.016042Z",
          "iopub.execute_input": "2022-05-31T19:22:37.016443Z",
          "iopub.status.idle": "2022-05-31T19:22:37.029445Z",
          "shell.execute_reply.started": "2022-05-31T19:22:37.016412Z",
          "shell.execute_reply": "2022-05-31T19:22:37.028321Z"
        },
        "trusted": true,
        "id": "UJd7_Sy-s66u"
      },
      "execution_count": null,
      "outputs": []
    },
    {
      "cell_type": "code",
      "source": [
        "class sampling_points(object):\n",
        "    \n",
        "    def __init__(self, output_size):\n",
        "        assert isinstance(output_size, int)\n",
        "        self.output_size = output_size\n",
        "    \n",
        "    def triangle_area(self, point_1, point_2, point_3):\n",
        "        self.pt_1 = point_1\n",
        "        self.pt_2 = point_2\n",
        "        self.pt_3 = point_3\n",
        "        self.area = 0.5 * ((np.linalg.norm(self.pt_1 - self.pt_2)) + (np.linalg.norm(self.pt_2 - self.pt_3)) + (np.linalg.norm(self.pt_3 - self.pt_1)))\n",
        "        perimeter = (self.area * (self.area - (np.linalg.norm(self.pt_1 - self.pt_2))) * (self.area - (np.linalg.norm(self.pt_2 - self.pt_3))) * (self.area - (np.linalg.norm(self.pt_3 - self.pt_1))))\n",
        "        return max(perimeter, 0) ** 0.5\n",
        "\n",
        "    def sample_point(self, point_1, point_2, point_3):\n",
        "        self.s, self.t = sorted([random.random(), random.random()])\n",
        "        self.pt_1 = point_1\n",
        "        self.pt_2 = point_2\n",
        "        self.pt_3 = point_3\n",
        "        self.f = lambda i: self.s * self.pt_1[i] + (self.t-self.s)*self.pt_2[i] + (1-self.t)*self.pt_3[i]\n",
        "        return (self.f(0), self.f(1), self.f(2))\n",
        "        \n",
        "    \n",
        "    def __call__(self, combo):\n",
        "        vertices, faces = combo\n",
        "        vertices = np.array(vertices)\n",
        "        areas = np.zeros((len(faces)))\n",
        "        \n",
        "        for i in range(len(areas)):\n",
        "          vertex_1 = vertices[faces[i][0]]\n",
        "          vertex_2 = vertices[faces[i][1]]\n",
        "          vertex_3 = vertices[faces[i][2]]\n",
        "          areas[i] = (self.triangle_area(vertex_1, vertex_2, vertex_3))\n",
        "            \n",
        "        sampled_vertices = random.choices(faces, weights = areas, cum_weights = None, k = self.output_size)\n",
        "        sampled_faces = (sampled_vertices)\n",
        "        s_points = np.zeros((self.output_size, 3))\n",
        "                        \n",
        "        for i in range(len(sampled_faces)):\n",
        "            vertex_4 = vertices[sampled_faces[i][0]]\n",
        "            vertex_5 = vertices[sampled_faces[i][1]]\n",
        "            vertex_6 = vertices[sampled_faces[i][2]]\n",
        "            s_points[i] = (self.sample_point(vertex_4, vertex_5, vertex_6))\n",
        "        \n",
        "        return s_points"
      ],
      "metadata": {
        "execution": {
          "iopub.status.busy": "2022-05-31T19:22:37.221377Z",
          "iopub.execute_input": "2022-05-31T19:22:37.221806Z",
          "iopub.status.idle": "2022-05-31T19:22:37.243027Z",
          "shell.execute_reply.started": "2022-05-31T19:22:37.221774Z",
          "shell.execute_reply": "2022-05-31T19:22:37.241951Z"
        },
        "trusted": true,
        "id": "wNEoT-ons66w"
      },
      "execution_count": null,
      "outputs": []
    },
    {
      "cell_type": "code",
      "source": [
        "class normalization(object):\n",
        "    def __call__(self, pointcloud):\n",
        "        assert len(pointcloud.shape)==2\n",
        "        \n",
        "        cloud_mean = np.mean(pointcloud, axis=0)\n",
        "        norm_pointcloud = pointcloud - cloud_mean\n",
        "        np_mean_cloud = np.max(np.linalg.norm(norm_pointcloud, axis=1))\n",
        "        cloud_division = norm_pointcloud / np_mean_cloud\n",
        "        self.norm_pointcloud = cloud_division\n",
        "        \n",
        "        return  self.norm_pointcloud\n",
        "\n",
        "class rotation(object):\n",
        "    def __call__(self, pointcloud):\n",
        "        assert len(pointcloud.shape)==2\n",
        "\n",
        "        self.theta = random.random() * 2. * math.pi\n",
        "        self.alpha = math.cos(self.theta)\n",
        "        self.beta = -math.sin(self.theta)\n",
        "        self.charlie = math.sin(self.theta)\n",
        "        self.delta = math.cos(self.theta)\n",
        "        self.rot_matrix = np.array([[self.alpha, self.beta, 0],[self.charlie, self.delta, 0],[0, 0, 1]])\n",
        "        self.dot_product = self.rot_matrix.dot(pointcloud.T).T\n",
        "        self.rot_pointcloud = self.dot_product\n",
        "        \n",
        "        return  self.rot_pointcloud\n",
        "\n",
        "class noise(object):\n",
        "    def __call__(self, pointcloud):\n",
        "        assert len(pointcloud.shape)==2\n",
        "        self.shape_1 = pointcloud.shape     \n",
        "        self.noisy_pointcloud = pointcloud + (np.random.normal(0, 0.02, (self.shape_1)))\n",
        "        \n",
        "        return  self.noisy_pointcloud\n",
        "    \n",
        "class ToTensor(object):\n",
        "    def __call__(self, pointcloud):\n",
        "        assert len(pointcloud.shape)==2\n",
        "\n",
        "        return torch.from_numpy(pointcloud)"
      ],
      "metadata": {
        "execution": {
          "iopub.status.busy": "2022-05-31T19:22:37.418305Z",
          "iopub.execute_input": "2022-05-31T19:22:37.419320Z",
          "iopub.status.idle": "2022-05-31T19:22:37.431457Z",
          "shell.execute_reply.started": "2022-05-31T19:22:37.419281Z",
          "shell.execute_reply": "2022-05-31T19:22:37.430684Z"
        },
        "trusted": true,
        "id": "4Eza5PARs66z"
      },
      "execution_count": null,
      "outputs": []
    },
    {
      "cell_type": "code",
      "source": [
        "train_transforms = transforms.Compose([sampling_points(2048), normalization(), rotation(), noise(), ToTensor()])"
      ],
      "metadata": {
        "execution": {
          "iopub.status.busy": "2022-05-31T19:22:37.521635Z",
          "iopub.execute_input": "2022-05-31T19:22:37.522163Z",
          "iopub.status.idle": "2022-05-31T19:22:37.526424Z",
          "shell.execute_reply.started": "2022-05-31T19:22:37.522131Z",
          "shell.execute_reply": "2022-05-31T19:22:37.525456Z"
        },
        "trusted": true,
        "id": "aVBrfuXks662"
      },
      "execution_count": null,
      "outputs": []
    },
    {
      "cell_type": "code",
      "source": [
        "class PointCloudData(Dataset):\n",
        "    \n",
        "    def __init__(self, valid=False, folder_name = \"train\", transform = train_transforms):\n",
        "        self.root_directory = directory\n",
        "        self.directory = classes_all\n",
        "        self.transformation = transform\n",
        "        self.folder_name = folder_name\n",
        "        self.classes = {self.folder_name: i for i, self.folder_name in enumerate(self.directory)}\n",
        "        self.transforms = self.transformation if not False else train_transforms\n",
        "        self.valid = valid\n",
        "        self.files = []\n",
        "        self.open_file = \"\"\n",
        "        for category in self.classes.keys():\n",
        "            self.new_dir = self.root_directory/Path(category)/folder_name\n",
        "            for file in os.listdir(self.new_dir):\n",
        "                if file.endswith('.off'):\n",
        "                    self.sample = {}\n",
        "                    self.name_new = self.new_dir/file\n",
        "                    self.sample['pcd_path'] = self.name_new\n",
        "                    self.sample['category'] = category\n",
        "                    self.files.append(self.sample)\n",
        "    \n",
        "    def __len__(self):\n",
        "        return len(self.files)\n",
        "\n",
        "    def __preproc__(self, file):\n",
        "        self.open_file = file\n",
        "        self.verts, self.faces = datapoints_loading(self.open_file)\n",
        "        if self.transforms:\n",
        "            self.pointcloud = self.transforms((self.verts, self.faces))\n",
        "        \n",
        "        return self.pointcloud\n",
        "\n",
        "    def __getitem__(self, idx):\n",
        "        self.path_to_file = self.files[idx]['pcd_path']\n",
        "        self.category = self.files[idx]['category']\n",
        "        with open(self.path_to_file, 'r') as f:\n",
        "            self.pointcloud = self.__preproc__(f)\n",
        "        \n",
        "        return {'pointcloud': self.pointcloud, 'category': self.classes[self.category]}"
      ],
      "metadata": {
        "execution": {
          "iopub.status.busy": "2022-05-31T19:22:37.630555Z",
          "iopub.execute_input": "2022-05-31T19:22:37.631162Z",
          "iopub.status.idle": "2022-05-31T19:22:37.938337Z",
          "shell.execute_reply.started": "2022-05-31T19:22:37.631115Z",
          "shell.execute_reply": "2022-05-31T19:22:37.937484Z"
        },
        "trusted": true,
        "id": "lw9ZWyw6s664"
      },
      "execution_count": null,
      "outputs": []
    },
    {
      "cell_type": "code",
      "source": [
        "train_ds = PointCloudData(folder_name = \"train\", transform=train_transforms)\n",
        "valid_ds = PointCloudData(valid=True, folder_name='test', transform=train_transforms)"
      ],
      "metadata": {
        "id": "UezGlZEKuMZE"
      },
      "execution_count": null,
      "outputs": []
    },
    {
      "cell_type": "code",
      "source": [
        "print('Train dataset size: ', len(train_ds))\n",
        "print('Valid dataset size: ', len(valid_ds))\n",
        "print('Number of classes: ', len(train_ds.classes))"
      ],
      "metadata": {
        "execution": {
          "iopub.status.busy": "2022-05-31T19:22:37.939613Z",
          "iopub.execute_input": "2022-05-31T19:22:37.940059Z",
          "iopub.status.idle": "2022-05-31T19:22:37.945293Z",
          "shell.execute_reply.started": "2022-05-31T19:22:37.940028Z",
          "shell.execute_reply": "2022-05-31T19:22:37.944383Z"
        },
        "trusted": true,
        "colab": {
          "base_uri": "https://localhost:8080/"
        },
        "id": "KeTr7Y_6s666",
        "outputId": "a5ddb8ff-6c3e-48a9-f223-67d596849d82"
      },
      "execution_count": null,
      "outputs": [
        {
          "output_type": "stream",
          "name": "stdout",
          "text": [
            "Train dataset size:  3991\n",
            "Valid dataset size:  908\n",
            "Number of classes:  10\n"
          ]
        }
      ]
    },
    {
      "cell_type": "code",
      "source": [
        "train_loader = DataLoader(dataset=train_ds, batch_size=32, shuffle=True)\n",
        "valid_loader = DataLoader(dataset=valid_ds, batch_size=64)"
      ],
      "metadata": {
        "id": "OgoZdi8v2m6A"
      },
      "execution_count": null,
      "outputs": []
    },
    {
      "cell_type": "code",
      "source": [
        "class Tnet(nn.Module):\n",
        "   def __init__(self, k=3):\n",
        "      super().__init__()\n",
        "      self.k=k\n",
        "      self.conv1 = nn.Conv1d(k,64,1)\n",
        "      self.conv2 = nn.Conv1d(64,128,1)\n",
        "      self.conv3 = nn.Conv1d(128,1024,1)\n",
        "      self.fc1 = nn.Linear(1024,512)\n",
        "      self.fc2 = nn.Linear(512,256)\n",
        "      self.fc3 = nn.Linear(256,k*k)\n",
        "\n",
        "      self.bn1 = nn.BatchNorm1d(64)\n",
        "      self.bn2 = nn.BatchNorm1d(128)\n",
        "      self.bn3 = nn.BatchNorm1d(1024)\n",
        "      self.bn4 = nn.BatchNorm1d(512)\n",
        "      self.bn5 = nn.BatchNorm1d(256)\n",
        "       \n",
        "\n",
        "   def forward(self, input):\n",
        "\n",
        "      bs = input.size(0)\n",
        "      xb = F.relu(self.bn1(self.conv1(input)))\n",
        "      xb = F.relu(self.bn2(self.conv2(xb)))\n",
        "      xb = F.relu(self.bn3(self.conv3(xb)))\n",
        "      pool = nn.MaxPool1d(xb.size(-1))(xb)\n",
        "      flat = nn.Flatten(1)(pool)\n",
        "      xb = F.relu(self.bn4(self.fc1(flat)))\n",
        "      xb = F.relu(self.bn5(self.fc2(xb)))\n",
        "      \n",
        "      #initialize as identity\n",
        "      init = torch.eye(self.k, requires_grad=True).repeat(bs,1,1)\n",
        "      if xb.is_cuda:\n",
        "        init=init.cuda()\n",
        "      matrix = self.fc3(xb).view(-1,self.k,self.k) + init\n",
        "      return matrix"
      ],
      "metadata": {
        "execution": {
          "iopub.status.busy": "2022-05-31T19:31:22.452954Z",
          "iopub.execute_input": "2022-05-31T19:31:22.453389Z",
          "iopub.status.idle": "2022-05-31T19:31:22.471035Z",
          "shell.execute_reply.started": "2022-05-31T19:31:22.453353Z",
          "shell.execute_reply": "2022-05-31T19:31:22.469935Z"
        },
        "trusted": true,
        "id": "o58dqNiBs667"
      },
      "execution_count": null,
      "outputs": []
    },
    {
      "cell_type": "code",
      "source": [
        "class Transform(nn.Module):\n",
        "   def __init__(self):\n",
        "        super().__init__()\n",
        "        self.input_transform = Tnet(k=3)\n",
        "        self.feature_transform = Tnet(k=64)\n",
        "        self.conv1 = nn.Conv1d(3,64,1)\n",
        "\n",
        "        self.conv2 = nn.Conv1d(64,128,1)\n",
        "        self.conv3 = nn.Conv1d(128,1024,1)\n",
        "       \n",
        "\n",
        "        self.bn1 = nn.BatchNorm1d(64)\n",
        "        self.bn2 = nn.BatchNorm1d(128)\n",
        "        self.bn3 = nn.BatchNorm1d(1024)\n",
        "       \n",
        "   def forward(self, input):\n",
        "        matrix3x3 = self.input_transform(input)\n",
        "\n",
        "        xb = torch.bmm(torch.transpose(input,1,2), matrix3x3).transpose(1,2)\n",
        "\n",
        "        xb = F.relu(self.bn1(self.conv1(xb)))\n",
        "\n",
        "        matrix64x64 = self.feature_transform(xb)\n",
        "        xb = torch.bmm(torch.transpose(xb,1,2), matrix64x64).transpose(1,2)\n",
        "\n",
        "        xb = F.relu(self.bn2(self.conv2(xb)))\n",
        "        xb = self.bn3(self.conv3(xb))\n",
        "        xb = nn.MaxPool1d(xb.size(-1))(xb)\n",
        "        output = nn.Flatten(1)(xb)\n",
        "        return output, matrix3x3, matrix64x64"
      ],
      "metadata": {
        "execution": {
          "iopub.status.busy": "2022-05-31T19:31:22.598042Z",
          "iopub.execute_input": "2022-05-31T19:31:22.598777Z",
          "iopub.status.idle": "2022-05-31T19:31:22.611400Z",
          "shell.execute_reply.started": "2022-05-31T19:31:22.598740Z",
          "shell.execute_reply": "2022-05-31T19:31:22.610311Z"
        },
        "trusted": true,
        "id": "eKaBfBAps668"
      },
      "execution_count": null,
      "outputs": []
    },
    {
      "cell_type": "code",
      "source": [
        "class PointNet(nn.Module):\n",
        "    def __init__(self, classes = 10):\n",
        "        super().__init__()\n",
        "        self.transform = Transform()\n",
        "        self.fc1 = nn.Linear(1024, 512)\n",
        "        self.fc2 = nn.Linear(512, 256)\n",
        "        self.fc3 = nn.Linear(256, classes)\n",
        "        \n",
        "\n",
        "        self.bn1 = nn.BatchNorm1d(512)\n",
        "        self.bn2 = nn.BatchNorm1d(256)\n",
        "        self.dropout = nn.Dropout(p=0.3)\n",
        "        self.logsoftmax = nn.LogSoftmax(dim=1)\n",
        "\n",
        "    def forward(self, input):\n",
        "        xb, matrix3x3, matrix64x64 = self.transform(input)\n",
        "        xb = F.relu(self.bn1(self.fc1(xb)))\n",
        "        xb = F.relu(self.bn2(self.dropout(self.fc2(xb))))\n",
        "        output = self.fc3(xb)\n",
        "        return self.logsoftmax(output), matrix3x3, matrix64x64"
      ],
      "metadata": {
        "execution": {
          "iopub.status.busy": "2022-05-31T19:31:23.128464Z",
          "iopub.execute_input": "2022-05-31T19:31:23.129237Z",
          "iopub.status.idle": "2022-05-31T19:31:23.139830Z",
          "shell.execute_reply.started": "2022-05-31T19:31:23.129198Z",
          "shell.execute_reply": "2022-05-31T19:31:23.138839Z"
        },
        "trusted": true,
        "id": "FaS6E83ns669"
      },
      "execution_count": null,
      "outputs": []
    },
    {
      "cell_type": "code",
      "source": [
        "def pointnetloss(outputs, labels, m3x3, m64x64, alpha=0.0001):\n",
        "    \n",
        "    criterion = torch.nn.NLLLoss()\n",
        "    bs=outputs.size(0)\n",
        "    id3x3 = torch.eye(3, requires_grad=True).repeat(bs,1,1)\n",
        "    id64x64 = torch.eye(64, requires_grad=True).repeat(bs,1,1)\n",
        "    if outputs.is_cuda:\n",
        "        id3x3=id3x3.cuda()\n",
        "        id64x64=id64x64.cuda()\n",
        "    diff3x3 = id3x3-torch.bmm(m3x3,m3x3.transpose(1,2))\n",
        "    diff64x64 = id64x64-torch.bmm(m64x64,m64x64.transpose(1,2))\n",
        "    return criterion(outputs, labels) + alpha * (torch.norm(diff3x3)+torch.norm(diff64x64)) / float(bs)"
      ],
      "metadata": {
        "execution": {
          "iopub.status.busy": "2022-05-31T19:31:51.673087Z",
          "iopub.execute_input": "2022-05-31T19:31:51.673514Z",
          "iopub.status.idle": "2022-05-31T19:31:51.682959Z",
          "shell.execute_reply.started": "2022-05-31T19:31:51.673480Z",
          "shell.execute_reply": "2022-05-31T19:31:51.682085Z"
        },
        "trusted": true,
        "id": "JFstK88ds66-"
      },
      "execution_count": null,
      "outputs": []
    },
    {
      "cell_type": "code",
      "source": [
        "device = torch.device(\"cuda:0\" if torch.cuda.is_available() else \"cpu\")\n",
        "pointnet = PointNet()\n",
        "optimizer = torch.optim.SGD(pointnet.parameters(), lr=0.001, momentum=0.9, weight_decay=1e-4)\n",
        "pointnet.to(device)"
      ],
      "metadata": {
        "execution": {
          "iopub.status.busy": "2022-05-31T19:33:44.756082Z",
          "iopub.execute_input": "2022-05-31T19:33:44.756858Z",
          "iopub.status.idle": "2022-05-31T19:33:44.808261Z",
          "shell.execute_reply.started": "2022-05-31T19:33:44.756813Z",
          "shell.execute_reply": "2022-05-31T19:33:44.807520Z"
        },
        "trusted": true,
        "colab": {
          "base_uri": "https://localhost:8080/"
        },
        "id": "ufiA_2E1s66_",
        "outputId": "e549c38c-5a45-4a81-ce55-d208851f74b6"
      },
      "execution_count": null,
      "outputs": [
        {
          "output_type": "execute_result",
          "data": {
            "text/plain": [
              "PointNet(\n",
              "  (transform): Transform(\n",
              "    (input_transform): Tnet(\n",
              "      (conv1): Conv1d(3, 64, kernel_size=(1,), stride=(1,))\n",
              "      (conv2): Conv1d(64, 128, kernel_size=(1,), stride=(1,))\n",
              "      (conv3): Conv1d(128, 1024, kernel_size=(1,), stride=(1,))\n",
              "      (fc1): Linear(in_features=1024, out_features=512, bias=True)\n",
              "      (fc2): Linear(in_features=512, out_features=256, bias=True)\n",
              "      (fc3): Linear(in_features=256, out_features=9, bias=True)\n",
              "      (bn1): BatchNorm1d(64, eps=1e-05, momentum=0.1, affine=True, track_running_stats=True)\n",
              "      (bn2): BatchNorm1d(128, eps=1e-05, momentum=0.1, affine=True, track_running_stats=True)\n",
              "      (bn3): BatchNorm1d(1024, eps=1e-05, momentum=0.1, affine=True, track_running_stats=True)\n",
              "      (bn4): BatchNorm1d(512, eps=1e-05, momentum=0.1, affine=True, track_running_stats=True)\n",
              "      (bn5): BatchNorm1d(256, eps=1e-05, momentum=0.1, affine=True, track_running_stats=True)\n",
              "    )\n",
              "    (feature_transform): Tnet(\n",
              "      (conv1): Conv1d(64, 64, kernel_size=(1,), stride=(1,))\n",
              "      (conv2): Conv1d(64, 128, kernel_size=(1,), stride=(1,))\n",
              "      (conv3): Conv1d(128, 1024, kernel_size=(1,), stride=(1,))\n",
              "      (fc1): Linear(in_features=1024, out_features=512, bias=True)\n",
              "      (fc2): Linear(in_features=512, out_features=256, bias=True)\n",
              "      (fc3): Linear(in_features=256, out_features=4096, bias=True)\n",
              "      (bn1): BatchNorm1d(64, eps=1e-05, momentum=0.1, affine=True, track_running_stats=True)\n",
              "      (bn2): BatchNorm1d(128, eps=1e-05, momentum=0.1, affine=True, track_running_stats=True)\n",
              "      (bn3): BatchNorm1d(1024, eps=1e-05, momentum=0.1, affine=True, track_running_stats=True)\n",
              "      (bn4): BatchNorm1d(512, eps=1e-05, momentum=0.1, affine=True, track_running_stats=True)\n",
              "      (bn5): BatchNorm1d(256, eps=1e-05, momentum=0.1, affine=True, track_running_stats=True)\n",
              "    )\n",
              "    (conv1): Conv1d(3, 64, kernel_size=(1,), stride=(1,))\n",
              "    (conv2): Conv1d(64, 128, kernel_size=(1,), stride=(1,))\n",
              "    (conv3): Conv1d(128, 1024, kernel_size=(1,), stride=(1,))\n",
              "    (bn1): BatchNorm1d(64, eps=1e-05, momentum=0.1, affine=True, track_running_stats=True)\n",
              "    (bn2): BatchNorm1d(128, eps=1e-05, momentum=0.1, affine=True, track_running_stats=True)\n",
              "    (bn3): BatchNorm1d(1024, eps=1e-05, momentum=0.1, affine=True, track_running_stats=True)\n",
              "  )\n",
              "  (fc1): Linear(in_features=1024, out_features=512, bias=True)\n",
              "  (fc2): Linear(in_features=512, out_features=256, bias=True)\n",
              "  (fc3): Linear(in_features=256, out_features=10, bias=True)\n",
              "  (bn1): BatchNorm1d(512, eps=1e-05, momentum=0.1, affine=True, track_running_stats=True)\n",
              "  (bn2): BatchNorm1d(256, eps=1e-05, momentum=0.1, affine=True, track_running_stats=True)\n",
              "  (dropout): Dropout(p=0.3, inplace=False)\n",
              "  (logsoftmax): LogSoftmax(dim=1)\n",
              ")"
            ]
          },
          "metadata": {},
          "execution_count": 36
        }
      ]
    },
    {
      "cell_type": "code",
      "source": [
        "loss_epochs = []\n",
        "test_acc = []\n",
        "\n",
        "def train(model, train_loader, val_loader=None,  epochs=15, save=True):\n",
        "    for epoch in range(epochs):\n",
        "        pointnet.train()\n",
        "        running_loss = 0.0\n",
        "        for i, data in enumerate(train_loader, 0):\n",
        "            # inputs, labels = data['pointcloud'].to(device).float(), data['category'].to(device)\n",
        "            optimizer.zero_grad()\n",
        "            outputs, m3x3, m64x64 = pointnet(inputs.transpose(1,2))\n",
        "\n",
        "            loss = pointnetloss(outputs, labels, m3x3, m64x64)\n",
        "            loss.backward()\n",
        "            optimizer.step()\n",
        "\n",
        "        loss_epochs.append(running_loss / (i+1))\n",
        "\n",
        "        pointnet.eval()\n",
        "        correct = total = 0\n",
        "\n",
        "        # validation\n",
        "        if val_loader:\n",
        "            with torch.no_grad():\n",
        "                for data in val_loader:\n",
        "                    inputs, labels = data['pointcloud'].to(device).float(), data['category'].to(device)\n",
        "                    outputs, __, __ = pointnet(inputs.transpose(1,2))\n",
        "                    _, predicted = torch.max(outputs.data, 1)\n",
        "                    total += labels.size(0)\n",
        "                    correct += (predicted == labels).sum().item()\n",
        "            val_acc = 100. * correct / total\n",
        "            print('Valid accuracy: %d %%' % val_acc)\n",
        "        test_acc.append(val_acc)"
      ],
      "metadata": {
        "id": "Pss7i4uos66_"
      },
      "execution_count": null,
      "outputs": []
    },
    {
      "cell_type": "code",
      "source": [
        "train(pointnet, train_loader, valid_loader,  save=False)"
      ],
      "metadata": {
        "colab": {
          "base_uri": "https://localhost:8080/"
        },
        "id": "InYJnjlpuEIW",
        "outputId": "3faa6258-2f80-415f-c85e-655863a095a0"
      },
      "execution_count": null,
      "outputs": [
        {
          "output_type": "stream",
          "name": "stdout",
          "text": [
            "[Epoch: 1, Batch:   10 /  125], loss: 2.373\n",
            "[Epoch: 1, Batch:   20 /  125], loss: 2.247\n",
            "[Epoch: 1, Batch:   30 /  125], loss: 2.145\n",
            "[Epoch: 1, Batch:   40 /  125], loss: 2.052\n",
            "[Epoch: 1, Batch:   50 /  125], loss: 1.961\n",
            "[Epoch: 1, Batch:   60 /  125], loss: 1.884\n",
            "[Epoch: 1, Batch:   70 /  125], loss: 1.813\n",
            "[Epoch: 1, Batch:   80 /  125], loss: 1.738\n",
            "[Epoch: 1, Batch:   90 /  125], loss: 1.676\n",
            "[Epoch: 1, Batch:  100 /  125], loss: 1.632\n",
            "[Epoch: 1, Batch:  110 /  125], loss: 1.590\n",
            "[Epoch: 1, Batch:  120 /  125], loss: 1.552\n",
            "Valid accuracy: 51 %\n",
            "[Epoch: 2, Batch:   10 /  125], loss: 1.084\n",
            "[Epoch: 2, Batch:   20 /  125], loss: 1.063\n",
            "[Epoch: 2, Batch:   30 /  125], loss: 1.030\n",
            "[Epoch: 2, Batch:   40 /  125], loss: 1.000\n",
            "[Epoch: 2, Batch:   50 /  125], loss: 0.985\n",
            "[Epoch: 2, Batch:   60 /  125], loss: 0.996\n",
            "[Epoch: 2, Batch:   70 /  125], loss: 0.972\n",
            "[Epoch: 2, Batch:   80 /  125], loss: 0.952\n",
            "[Epoch: 2, Batch:   90 /  125], loss: 0.935\n",
            "[Epoch: 2, Batch:  100 /  125], loss: 0.928\n",
            "[Epoch: 2, Batch:  110 /  125], loss: 0.919\n",
            "[Epoch: 2, Batch:  120 /  125], loss: 0.909\n",
            "Valid accuracy: 68 %\n",
            "[Epoch: 3, Batch:   10 /  125], loss: 0.799\n",
            "[Epoch: 3, Batch:   20 /  125], loss: 0.756\n",
            "[Epoch: 3, Batch:   30 /  125], loss: 0.728\n",
            "[Epoch: 3, Batch:   40 /  125], loss: 0.765\n",
            "[Epoch: 3, Batch:   50 /  125], loss: 0.756\n",
            "[Epoch: 3, Batch:   60 /  125], loss: 0.734\n",
            "[Epoch: 3, Batch:   70 /  125], loss: 0.726\n",
            "[Epoch: 3, Batch:   80 /  125], loss: 0.718\n",
            "[Epoch: 3, Batch:   90 /  125], loss: 0.705\n",
            "[Epoch: 3, Batch:  100 /  125], loss: 0.694\n",
            "[Epoch: 3, Batch:  110 /  125], loss: 0.705\n",
            "[Epoch: 3, Batch:  120 /  125], loss: 0.704\n",
            "Valid accuracy: 71 %\n",
            "[Epoch: 4, Batch:   10 /  125], loss: 0.729\n",
            "[Epoch: 4, Batch:   20 /  125], loss: 0.692\n",
            "[Epoch: 4, Batch:   30 /  125], loss: 0.694\n",
            "[Epoch: 4, Batch:   40 /  125], loss: 0.675\n",
            "[Epoch: 4, Batch:   50 /  125], loss: 0.660\n",
            "[Epoch: 4, Batch:   60 /  125], loss: 0.649\n",
            "[Epoch: 4, Batch:   70 /  125], loss: 0.641\n",
            "[Epoch: 4, Batch:   80 /  125], loss: 0.635\n",
            "[Epoch: 4, Batch:   90 /  125], loss: 0.636\n",
            "[Epoch: 4, Batch:  100 /  125], loss: 0.641\n",
            "[Epoch: 4, Batch:  110 /  125], loss: 0.640\n",
            "[Epoch: 4, Batch:  120 /  125], loss: 0.634\n",
            "Valid accuracy: 68 %\n",
            "[Epoch: 5, Batch:   10 /  125], loss: 0.626\n",
            "[Epoch: 5, Batch:   20 /  125], loss: 0.592\n",
            "[Epoch: 5, Batch:   30 /  125], loss: 0.570\n",
            "[Epoch: 5, Batch:   40 /  125], loss: 0.575\n",
            "[Epoch: 5, Batch:   50 /  125], loss: 0.583\n",
            "[Epoch: 5, Batch:   60 /  125], loss: 0.576\n",
            "[Epoch: 5, Batch:   70 /  125], loss: 0.583\n",
            "[Epoch: 5, Batch:   80 /  125], loss: 0.576\n",
            "[Epoch: 5, Batch:   90 /  125], loss: 0.573\n",
            "[Epoch: 5, Batch:  100 /  125], loss: 0.562\n",
            "[Epoch: 5, Batch:  110 /  125], loss: 0.562\n",
            "[Epoch: 5, Batch:  120 /  125], loss: 0.565\n",
            "Valid accuracy: 75 %\n",
            "[Epoch: 6, Batch:   10 /  125], loss: 0.531\n",
            "[Epoch: 6, Batch:   20 /  125], loss: 0.529\n",
            "[Epoch: 6, Batch:   30 /  125], loss: 0.533\n",
            "[Epoch: 6, Batch:   40 /  125], loss: 0.560\n",
            "[Epoch: 6, Batch:   50 /  125], loss: 0.534\n",
            "[Epoch: 6, Batch:   60 /  125], loss: 0.521\n",
            "[Epoch: 6, Batch:   70 /  125], loss: 0.519\n",
            "[Epoch: 6, Batch:   80 /  125], loss: 0.526\n",
            "[Epoch: 6, Batch:   90 /  125], loss: 0.514\n",
            "[Epoch: 6, Batch:  100 /  125], loss: 0.510\n",
            "[Epoch: 6, Batch:  110 /  125], loss: 0.509\n",
            "[Epoch: 6, Batch:  120 /  125], loss: 0.507\n",
            "Valid accuracy: 79 %\n",
            "[Epoch: 7, Batch:   10 /  125], loss: 0.571\n",
            "[Epoch: 7, Batch:   20 /  125], loss: 0.528\n",
            "[Epoch: 7, Batch:   30 /  125], loss: 0.505\n",
            "[Epoch: 7, Batch:   40 /  125], loss: 0.495\n",
            "[Epoch: 7, Batch:   50 /  125], loss: 0.495\n",
            "[Epoch: 7, Batch:   60 /  125], loss: 0.489\n",
            "[Epoch: 7, Batch:   70 /  125], loss: 0.482\n",
            "[Epoch: 7, Batch:   80 /  125], loss: 0.474\n",
            "[Epoch: 7, Batch:   90 /  125], loss: 0.475\n",
            "[Epoch: 7, Batch:  100 /  125], loss: 0.473\n",
            "[Epoch: 7, Batch:  110 /  125], loss: 0.467\n",
            "[Epoch: 7, Batch:  120 /  125], loss: 0.466\n",
            "Valid accuracy: 81 %\n",
            "[Epoch: 8, Batch:   10 /  125], loss: 0.402\n",
            "[Epoch: 8, Batch:   20 /  125], loss: 0.512\n",
            "[Epoch: 8, Batch:   30 /  125], loss: 0.517\n",
            "[Epoch: 8, Batch:   40 /  125], loss: 0.507\n",
            "[Epoch: 8, Batch:   50 /  125], loss: 0.514\n",
            "[Epoch: 8, Batch:   60 /  125], loss: 0.504\n",
            "[Epoch: 8, Batch:   70 /  125], loss: 0.488\n",
            "[Epoch: 8, Batch:   80 /  125], loss: 0.484\n",
            "[Epoch: 8, Batch:   90 /  125], loss: 0.482\n",
            "[Epoch: 8, Batch:  100 /  125], loss: 0.481\n",
            "[Epoch: 8, Batch:  110 /  125], loss: 0.475\n",
            "[Epoch: 8, Batch:  120 /  125], loss: 0.473\n",
            "Valid accuracy: 78 %\n",
            "[Epoch: 9, Batch:   10 /  125], loss: 0.396\n",
            "[Epoch: 9, Batch:   20 /  125], loss: 0.431\n",
            "[Epoch: 9, Batch:   30 /  125], loss: 0.396\n",
            "[Epoch: 9, Batch:   40 /  125], loss: 0.387\n",
            "[Epoch: 9, Batch:   50 /  125], loss: 0.383\n"
          ]
        }
      ]
    }
  ]
}